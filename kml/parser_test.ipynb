{
 "nbformat": 4,
 "nbformat_minor": 2,
 "metadata": {
  "language_info": {
   "name": "python",
   "codemirror_mode": {
    "name": "ipython",
    "version": 3
   },
   "version": "3.7.0"
  },
  "orig_nbformat": 2,
  "file_extension": ".py",
  "mimetype": "text/x-python",
  "name": "python",
  "npconvert_exporter": "python",
  "pygments_lexer": "ipython3",
  "version": 3
 },
 "cells": [
  {
   "cell_type": "code",
   "execution_count": 1,
   "metadata": {},
   "outputs": [],
   "source": [
    "import xml.etree.ElementTree as ET\n",
    "\n",
    "tree = ET.parse('91springboard Indiranagar to Banashankari.kml')\n",
    "\n"
   ]
  },
  {
   "cell_type": "code",
   "execution_count": 2,
   "metadata": {},
   "outputs": [
    {
     "name": "stdout",
     "output_type": "stream",
     "text": "<Element '{http://www.opengis.net/kml/2.2}kml' at 0x00000243FF0A5E08>\n"
    }
   ],
   "source": [
    "root = tree.getroot()\n",
    "print(root)"
   ]
  },
  {
   "cell_type": "code",
   "execution_count": 3,
   "metadata": {},
   "outputs": [
    {
     "name": "stdout",
     "output_type": "stream",
     "text": "{http://www.opengis.net/kml/2.2}Document\n{http://www.opengis.net/kml/2.2}name\n{http://www.opengis.net/kml/2.2}Style\n{http://www.opengis.net/kml/2.2}Style\n{http://www.opengis.net/kml/2.2}StyleMap\n{http://www.opengis.net/kml/2.2}Style\n{http://www.opengis.net/kml/2.2}Style\n{http://www.opengis.net/kml/2.2}StyleMap\n{http://www.opengis.net/kml/2.2}Placemark\n{http://www.opengis.net/kml/2.2}Placemark\n{http://www.opengis.net/kml/2.2}Placemark\n"
    }
   ],
   "source": [
    "for child in root:\n",
    "    print(child.tag)\n",
    "    for i in child:\n",
    "        print(i.tag)"
   ]
  },
  {
   "cell_type": "code",
   "execution_count": 4,
   "metadata": {},
   "outputs": [
    {
     "name": "stdout",
     "output_type": "stream",
     "text": "[<Element '{http://www.opengis.net/kml/2.2}Placemark' at 0x00000243FF1B7BD8>, <Element '{http://www.opengis.net/kml/2.2}Placemark' at 0x00000243FF4834F8>, <Element '{http://www.opengis.net/kml/2.2}Placemark' at 0x00000243FF4836D8>]\n"
    }
   ],
   "source": [
    "el = tree.findall('*/{http://www.opengis.net/kml/2.2}Placemark')\n",
    "print(el)\n",
    "\n"
   ]
  },
  {
   "cell_type": "code",
   "execution_count": 10,
   "metadata": {},
   "outputs": [],
   "source": [
    "def write_query(message):\n",
    "    from neo4j import GraphDatabase\n",
    "\n",
    "    uri = \"bolt://localhost:7687\"\n",
    "    driver = GraphDatabase.driver(uri, auth=(\"neo4j\", \"test\"))\n",
    "    with driver.session() as session:\n",
    "        result = session.run(\"CREATE (a:Point {point:{name}})\", name = message)"
   ]
  },
  {
   "cell_type": "code",
   "execution_count": 11,
   "metadata": {},
   "outputs": [
    {
     "name": "stdout",
     "output_type": "stream",
     "text": "\n          77.6459151,12.9815751,0\n        \n\n          77.5467783,12.9255006,0\n        \n"
    }
   ],
   "source": [
    "for i in el:\n",
    "    for sub in i:\n",
    "        # print(sub.tag)\n",
    "        if str(sub.tag).find('Point') != -1:\n",
    "            for subber in sub:\n",
    "                print(subber.text)\n",
    "                write_query(subber.text)\n",
    "        "
   ]
  },
  {
   "cell_type": "code",
   "execution_count": null,
   "metadata": {},
   "outputs": [],
   "source": []
  }
 ]
}